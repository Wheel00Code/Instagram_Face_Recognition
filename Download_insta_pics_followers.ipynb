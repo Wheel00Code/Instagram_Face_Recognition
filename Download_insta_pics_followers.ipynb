{
 "cells": [
  {
   "cell_type": "markdown",
   "id": "fc1d5dbe",
   "metadata": {},
   "source": [
    "# Imports:"
   ]
  },
  {
   "cell_type": "code",
   "execution_count": 3,
   "id": "f41a6704",
   "metadata": {},
   "outputs": [],
   "source": [
    "import instaloader\n",
    "import time\n",
    "from selenium import webdriver\n",
    "import datetime\n",
    "import random\n",
    "from selenium.webdriver.common.keys import Keys\n",
    "from bs4 import BeautifulSoup\n",
    "import requests\n",
    "\n",
    "import instaloader\n",
    "\n",
    "# Face recognition\n",
    "import cv2\n",
    "import face_recognition\n",
    "from matplotlib import pyplot as plt\n",
    "from datetime import datetime\n",
    "import shutil\n",
    "\n",
    "\n",
    "\n",
    "import glob\n",
    "from PIL import Image"
   ]
  },
  {
   "cell_type": "markdown",
   "id": "b3e45f32",
   "metadata": {},
   "source": [
    "# List of the followers:"
   ]
  },
  {
   "cell_type": "code",
   "execution_count": 4,
   "id": "a0a20aa9",
   "metadata": {},
   "outputs": [
    {
     "name": "stderr",
     "output_type": "stream",
     "text": [
      "JSON Query to enric.10111/feed/: Could not find \"window._sharedData\" in html response. [retrying; skip with ^C]\n",
      "JSON Query to enric.10111/feed/: Could not find \"window._sharedData\" in html response. [retrying; skip with ^C]\n"
     ]
    }
   ],
   "source": [
    "# get all the followers username of the accound you enter:\n",
    "\n",
    "try:\n",
    "    L = instaloader.Instaloader()\n",
    "\n",
    "    # Login or load session\n",
    "    username = \"\"  #<----------- Entern username\n",
    "    password = \"\"  #<----------- Entern password\n",
    "    L.login(username, password)  # (login)\n",
    "\n",
    "    # Obtain profile metadata\n",
    "    profile = instaloader.Profile.from_username(L.context, username)\n",
    "\n",
    "    # Print list of followees\n",
    "    follow_list = []\n",
    "    count = 0\n",
    "    for followee in profile.get_followees():\n",
    "        follow_list.append(followee.username)\n",
    "        file = open(\"prada_followers.txt\", \"a+\")\n",
    "        file.write(follow_list[count])\n",
    "        file.write(\"\\n\")\n",
    "        file.close()\n",
    "        print(follow_list[count])\n",
    "        count = count + 1\n",
    "except:\n",
    "    pass"
   ]
  },
  {
   "cell_type": "markdown",
   "id": "ba1d126e",
   "metadata": {},
   "source": [
    "# Get the pic of all the followers"
   ]
  },
  {
   "cell_type": "code",
   "execution_count": 5,
   "id": "93111703",
   "metadata": {},
   "outputs": [
    {
     "name": "stdout",
     "output_type": "stream",
     "text": [
      "Dowlondig the pic of: cristiano\n",
      "Didn't save the pic, adding to the don't save list not_saved_list.\n",
      "Dowlondig the pic of: leomessi\n",
      "Didn't save the pic, adding to the don't save list not_saved_list.\n",
      "Dowlondig the pic of: selenagomez\n",
      "Didn't save the pic, adding to the don't save list not_saved_list.\n",
      "Dowlondig the pic of: elonmusk.ab\n",
      "Didn't save the pic, adding to the don't save list not_saved_list.\n",
      "Dowlondig the pic of: roda.moya\n",
      "Didn't save the pic, adding to the don't save list not_saved_list.\n"
     ]
    }
   ],
   "source": [
    "#Enter to your perfoil\n",
    "\n",
    "browser = webdriver.Chrome(executable_path = r\"C:\\Users\\....\\driver\\chromedriver.exe\") # ---> Enter Selenium path driver\n",
    "browser.get(\"https://www.instagram.com/\")\n",
    "\n",
    "# Acceptar cookies\n",
    "But_Cokkies = browser.find_element_by_xpath(\"/html/body/div[4]/div/div/button[1]\")\n",
    "But_Cokkies.click()\n",
    "\n",
    "time.sleep(5)\n",
    "\n",
    "# LOG IN________________________________________________________________\n",
    "\n",
    "# User\n",
    "user = browser.find_element_by_xpath(\"//*[@id='loginForm']/div/div[1]/div/label/input\")\n",
    "user.click()\n",
    "user.send_keys(username)\n",
    "\n",
    "#Password\n",
    "passw = browser.find_element_by_xpath(\"//*[@id='loginForm']/div/div[2]/div/label/input\")\n",
    "passw.click()\n",
    "passw.send_keys(password)\n",
    "\n",
    "#Button log in\n",
    "libtn = browser.find_element_by_xpath('//*[@id=\"loginForm\"]/div/div[3]/button/div')\n",
    "libtn.click()\n",
    "\n",
    "time.sleep(5)\n",
    "\n",
    "#Don't save info \n",
    "infobtn = browser.find_element_by_xpath(\"//*[@id='react-root']/section/main/div/div/div/section/div/button\")\n",
    "infobtn.click()\n",
    "\n",
    "time.sleep(10)\n",
    "\n",
    "#Notifications of:\n",
    "notibtn = browser.find_element_by_xpath('/html/body/div[1]/div/div/div/div[2]/div/div/div[1]/div/div[2]/div/div/div/div/div/div/div/div[3]/button[2]')\n",
    "notibtn.click()\n",
    "\n",
    "time.sleep(5)\n",
    "\n",
    "# User to download the imatge:\n",
    "follwers = follow_list[:25]\n",
    "\n",
    "# list with the not saved users pics:\n",
    "not_saved_list = []\n",
    "\n",
    "# list with the saved users pics:\n",
    "Saved_list = []\n",
    "\n",
    "for follower in follwers:\n",
    "    \n",
    "    print(\"Dowlondig the pic of:\", follower )\n",
    "    \n",
    "    try: \n",
    "\n",
    "        searchbox=browser.find_element_by_css_selector(\"input[placeholder='Busca']\")\n",
    "        searchbox.clear()\n",
    "        searchbox.send_keys(follower)\n",
    "        time.sleep(5)\n",
    "        searchbox.send_keys(Keys.ENTER)\n",
    "        time.sleep(5)\n",
    "        searchbox.send_keys(Keys.ENTER)\n",
    "        time.sleep(5)\n",
    "\n",
    "        # slect image\n",
    "\n",
    "        img_1 = browser.find_element_by_xpath('//*[@id=\"mount_0_0_ud\"]/div/div/div/div[1]/div/div/div/div[1]/div[1]/section/main/div/div[2]/article/div/div/div/div[1]/a')\n",
    "        img_1.click()\n",
    "    \n",
    "    \n",
    "\n",
    "        ''' Fetch the source file of the html page using BeautifulSoup'''\n",
    "        soup = BeautifulSoup(browser.page_source, 'lxml')\n",
    "\n",
    "        ''' Extract the url of the image from the source code''' \n",
    "        img = soup.find('img', class_='FFVAD')\n",
    "        img_url = img['src']\n",
    "\n",
    "\n",
    "        '''Download the image via the url using the requests library'''\n",
    "        r = requests.get(img_url)\n",
    "\n",
    "\n",
    "\n",
    "        with open(follower  +\".png\",'wb') as f: \n",
    "            f.write(r.content)\n",
    "\n",
    "        print('Success!')\n",
    "        \n",
    "        Saved_list.append(follower)\n",
    "    \n",
    "    # Cerrar imagen:\n",
    "        colseimg = browser.find_element_by_xpath(\"/html/body/div[6]/div[3]/button\")\n",
    "        colseimg.click()\n",
    "    \n",
    "        time.sleep(5)\n",
    "    \n",
    "    # delet the user\n",
    "    #del_user = browser.find_element_by_xpath('//*[@id=\"react-root\"]/section/nav/div[2]/div/div/div[2]/div[2]')\n",
    "    #del_user.click()\n",
    "    \n",
    "        \n",
    "    \n",
    "    except:\n",
    "        \n",
    "        print(\"Didn't save the pic, adding to the don't save list not_saved_list.\")\n",
    "        \n",
    "        # Add the user to the don't saved pics:\n",
    "        not_saved_list.append(follower)\n",
    "        \n",
    "        pass\n",
    "\n"
   ]
  },
  {
   "cell_type": "code",
   "execution_count": 13,
   "id": "41469357",
   "metadata": {},
   "outputs": [
    {
     "name": "stdout",
     "output_type": "stream",
     "text": [
      "C:\\Users\\Enric Roda\\anaconda3\\envs\\kik_project\\Facial_recognition\\Descargar_imagnes_insta\n"
     ]
    }
   ],
   "source": [
    "# Where are the pics saved:\n",
    "import os\n",
    "print(os.getcwd())"
   ]
  },
  {
   "cell_type": "markdown",
   "id": "29cf3e07",
   "metadata": {},
   "source": [
    "## List of saved and not:"
   ]
  },
  {
   "cell_type": "markdown",
   "id": "0748224d",
   "metadata": {},
   "source": [
    "### Not saved List:"
   ]
  },
  {
   "cell_type": "code",
   "execution_count": 7,
   "id": "3a9b427f",
   "metadata": {},
   "outputs": [
    {
     "data": {
      "text/plain": [
       "['cassini_eu',\n",
       " 'okisfn_',\n",
       " 'rubenlove_',\n",
       " 'guaynaa',\n",
       " 'cheslinkolbe',\n",
       " 'rompiendo_espana',\n",
       " 'darioemehache']"
      ]
     },
     "execution_count": 7,
     "metadata": {},
     "output_type": "execute_result"
    }
   ],
   "source": [
    "not_saved_list"
   ]
  },
  {
   "cell_type": "markdown",
   "id": "01334d5a",
   "metadata": {},
   "source": [
    "### Saved pics list"
   ]
  },
  {
   "cell_type": "code",
   "execution_count": 8,
   "id": "dae4c34b",
   "metadata": {},
   "outputs": [
    {
     "data": {
      "text/plain": [
       "['akangfootball',\n",
       " 'elsecretodesusmomos',\n",
       " 'loom.fest',\n",
       " 'sapodelraco',\n",
       " 'python.learning',\n",
       " 'el_anmax_',\n",
       " 'una.pagina.de.memes.robados',\n",
       " 'maraynaaa',\n",
       " 'p0rr0chimaru__',\n",
       " 'davidsuarezcompartesusmierdas',\n",
       " 'memes_jod_',\n",
       " 'juegosintiperojuegocontigo',\n",
       " 'marinamosam',\n",
       " 'rikka.xd',\n",
       " 'estancsalou_3',\n",
       " 'atractive_smithers',\n",
       " 'white_nic',\n",
       " 'maroitoje']"
      ]
     },
     "execution_count": 8,
     "metadata": {},
     "output_type": "execute_result"
    }
   ],
   "source": [
    "Saved_list"
   ]
  },
  {
   "cell_type": "markdown",
   "id": "80ab7817",
   "metadata": {},
   "source": [
    "## Save the pics wher we can find the faces"
   ]
  },
  {
   "cell_type": "code",
   "execution_count": 9,
   "id": "879b4ace",
   "metadata": {},
   "outputs": [
    {
     "name": "stdout",
     "output_type": "stream",
     "text": [
      "Encoding akangfootball pic\n",
      "akangfootball.png\n",
      "akangfootball.png Was moved\n",
      "Success!\n",
      "\n",
      "Encoding elsecretodesusmomos pic\n",
      "elsecretodesusmomos.png\n",
      "elsecretodesusmomos Pic cann`t not be encoded\n",
      "\n",
      "Encoding loom.fest pic\n",
      "loom.fest.png\n",
      "loom.fest Pic cann`t not be encoded\n",
      "\n",
      "Encoding sapodelraco pic\n",
      "sapodelraco.png\n",
      "sapodelraco.png Was moved\n",
      "Success!\n",
      "\n",
      "Encoding python.learning pic\n",
      "python.learning.png\n",
      "python.learning Pic cann`t not be encoded\n",
      "\n",
      "Encoding el_anmax_ pic\n",
      "el_anmax_.png\n",
      "el_anmax_ Pic cann`t not be encoded\n",
      "\n",
      "Encoding una.pagina.de.memes.robados pic\n",
      "una.pagina.de.memes.robados.png\n",
      "una.pagina.de.memes.robados Pic cann`t not be encoded\n",
      "\n",
      "Encoding maraynaaa pic\n",
      "maraynaaa.png\n",
      "maraynaaa.png Was moved\n",
      "Success!\n",
      "\n",
      "Encoding p0rr0chimaru__ pic\n",
      "p0rr0chimaru__.png\n",
      "p0rr0chimaru__ Pic cann`t not be encoded\n",
      "\n",
      "Encoding davidsuarezcompartesusmierdas pic\n",
      "davidsuarezcompartesusmierdas.png\n",
      "davidsuarezcompartesusmierdas.png Was moved\n",
      "Success!\n",
      "\n",
      "Encoding memes_jod_ pic\n",
      "memes_jod_.png\n",
      "memes_jod_ Pic cann`t not be encoded\n",
      "\n",
      "Encoding juegosintiperojuegocontigo pic\n",
      "juegosintiperojuegocontigo.png\n",
      "juegosintiperojuegocontigo Pic cann`t not be encoded\n",
      "\n",
      "Encoding marinamosam pic\n",
      "marinamosam.png\n",
      "marinamosam.png Was moved\n",
      "Success!\n",
      "\n",
      "Encoding rikka.xd pic\n",
      "rikka.xd.png\n",
      "rikka.xd Pic cann`t not be encoded\n",
      "\n",
      "Encoding estancsalou_3 pic\n",
      "estancsalou_3.png\n",
      "estancsalou_3 Pic cann`t not be encoded\n",
      "\n",
      "Encoding atractive_smithers pic\n",
      "atractive_smithers.png\n",
      "atractive_smithers Pic cann`t not be encoded\n",
      "\n",
      "Encoding white_nic pic\n",
      "white_nic.png\n",
      "white_nic.png Was moved\n",
      "Success!\n",
      "\n",
      "Encoding maroitoje pic\n",
      "maroitoje.png\n",
      "maroitoje.png Was moved\n",
      "Success!\n",
      "\n"
     ]
    }
   ],
   "source": [
    "# encodings imatges:\n",
    "# declar the list to fit the users depending if there is a face detected or not:\n",
    "face_detected = []\n",
    "Not_face_dtected = []\n",
    "\n",
    "for follower in Saved_list: \n",
    "\n",
    "    try:\n",
    "        print(\"Encoding\", follower , \"pic\")\n",
    "        \n",
    "        # Get the name of the .png imatge\n",
    "        imatge_name = follower + \".png\"\n",
    "        \n",
    "        print(imatge_name)\n",
    "        \n",
    "        #Declare img variables:\n",
    "        img_follower = \"img_\" + follower\n",
    "        rgb_follower = \"rgb_\" + follower\n",
    "        enc_img_follower = \"enc_img_\" + follower\n",
    "        \n",
    "        \n",
    "        # Encode rhe faces\n",
    "        img_follower = cv2.imread(imatge_name)\n",
    "        rgb_follower = cv2.cvtColor(img_follower, cv2.COLOR_BGR2RGB)\n",
    "        enc_img_follower = face_recognition.face_encodings(rgb_follower)[0]    \n",
    "        \n",
    "        \n",
    "        face_detected.append(follower)\n",
    "        \n",
    "        destination = \"C:\\\\Users...\\\\\" + imatge_name # ----> Fill the path\n",
    "        shutil.copyfile(imatge_name, destination)\n",
    "        #os.replace(imatge_name, destination )\n",
    "        print(imatge_name + \" Was moved\")\n",
    "        \n",
    "        print(\"Success!\")\n",
    "        print(\"\")\n",
    "    except:\n",
    "        \n",
    "        print( follower , \"Pic can`t not be encoded\")\n",
    "        print(\"\")\n",
    "        \n",
    "        Not_face_dtected.append(follower)\n",
    "        \n",
    "        pass\n",
    "        "
   ]
  },
  {
   "cell_type": "markdown",
   "id": "bf2ce7cf",
   "metadata": {},
   "source": [
    "# Listas caras detectadas y no caras:"
   ]
  },
  {
   "cell_type": "markdown",
   "id": "b3626d4c",
   "metadata": {},
   "source": [
    "### Fotos ya guardadas con caras encontradas"
   ]
  },
  {
   "cell_type": "code",
   "execution_count": 10,
   "id": "db82cc81",
   "metadata": {},
   "outputs": [
    {
     "data": {
      "text/plain": [
       "['akangfootball',\n",
       " 'sapodelraco',\n",
       " 'maraynaaa',\n",
       " 'davidsuarezcompartesusmierdas',\n",
       " 'marinamosam',\n",
       " 'white_nic',\n",
       " 'maroitoje']"
      ]
     },
     "execution_count": 10,
     "metadata": {},
     "output_type": "execute_result"
    }
   ],
   "source": [
    "face_detected"
   ]
  },
  {
   "cell_type": "markdown",
   "id": "7c44600f",
   "metadata": {},
   "source": [
    "### Craras no encontradas:"
   ]
  },
  {
   "cell_type": "code",
   "execution_count": 11,
   "id": "e41d2b88",
   "metadata": {},
   "outputs": [
    {
     "data": {
      "text/plain": [
       "['elsecretodesusmomos',\n",
       " 'loom.fest',\n",
       " 'python.learning',\n",
       " 'el_anmax_',\n",
       " 'una.pagina.de.memes.robados',\n",
       " 'p0rr0chimaru__',\n",
       " 'memes_jod_',\n",
       " 'juegosintiperojuegocontigo',\n",
       " 'rikka.xd',\n",
       " 'estancsalou_3',\n",
       " 'atractive_smithers']"
      ]
     },
     "execution_count": 11,
     "metadata": {},
     "output_type": "execute_result"
    }
   ],
   "source": [
    "Not_face_dtected"
   ]
  },
  {
   "cell_type": "markdown",
   "id": "907b4a89",
   "metadata": {},
   "source": [
    "### Merge the 2 list of no face detected and don't saved."
   ]
  },
  {
   "cell_type": "code",
   "execution_count": 12,
   "id": "d8d3b98e",
   "metadata": {},
   "outputs": [
    {
     "data": {
      "text/plain": [
       "['elsecretodesusmomos',\n",
       " 'loom.fest',\n",
       " 'python.learning',\n",
       " 'el_anmax_',\n",
       " 'una.pagina.de.memes.robados',\n",
       " 'p0rr0chimaru__',\n",
       " 'memes_jod_',\n",
       " 'juegosintiperojuegocontigo',\n",
       " 'rikka.xd',\n",
       " 'estancsalou_3',\n",
       " 'atractive_smithers',\n",
       " 'cassini_eu',\n",
       " 'okisfn_',\n",
       " 'rubenlove_',\n",
       " 'guaynaa',\n",
       " 'cheslinkolbe',\n",
       " 'rompiendo_espana',\n",
       " 'darioemehache']"
      ]
     },
     "execution_count": 12,
     "metadata": {},
     "output_type": "execute_result"
    }
   ],
   "source": [
    "Get_second_pic_list =  Not_face_dtected + not_saved_list\n",
    "Get_second_pic_list"
   ]
  },
  {
   "cell_type": "markdown",
   "id": "4181f9ac",
   "metadata": {},
   "source": [
    "# Get the second pic"
   ]
  },
  {
   "cell_type": "code",
   "execution_count": 13,
   "id": "5239fce3",
   "metadata": {},
   "outputs": [
    {
     "name": "stdout",
     "output_type": "stream",
     "text": [
      "Stored ID 7659994308 for profile elsecretodesusmomos.\n",
      "elsecretodesusmomos\\2019-12-25_14-35-38_UTC_profile_pic.jpg \n",
      "Stored ID 48563931490 for profile loom.fest.\n",
      "loom.fest\\2021-08-12_18-02-11_UTC_profile_pic.jpg \n",
      "Stored ID 8341907421 for profile python.learning.\n",
      "python.learning\\2018-10-26_13-59-58_UTC_profile_pic.jpg \n",
      "Stored ID 32547544285 for profile el_anmax_.\n",
      "el_anmax_\\2021-09-16_19-47-17_UTC_profile_pic.jpg \n",
      "Stored ID 4518024383 for profile una.pagina.de.memes.robados.\n",
      "una.pagina.de.memes.robados\\2021-02-24_18-42-42_UTC_profile_pic.jpg \n",
      "Stored ID 48290292183 for profile p0rr0chimaru__.\n",
      "p0rr0chimaru__\\2021-06-07_10-17-15_UTC_profile_pic.jpg \n",
      "Stored ID 6965905391 for profile memes_jod_.\n",
      "memes_jod_\\2020-07-27_02-52-44_UTC_profile_pic.jpg \n",
      "Stored ID 2358677217 for profile juegosintiperojuegocontigo.\n",
      "juegosintiperojuegocontigo\\2020-08-03_02-23-51_UTC_profile_pic.jpg \n",
      "Stored ID 18484166586 for profile rikka.xd.\n",
      "rikka.xd\\2021-08-18_14-57-41_UTC_profile_pic.jpg \n",
      "Stored ID 46325191772 for profile estancsalou_3.\n",
      "estancsalou_3\\2021-03-25_00-08-23_UTC_profile_pic.jpg \n",
      "Stored ID 7372975823 for profile atractive_smithers.\n",
      "atractive_smithers\\2020-12-28_23-23-32_UTC_profile_pic.jpg \n",
      "Stored ID 47330487348 for profile cassini_eu.\n",
      "cassini_eu\\2021-04-30_12-32-00_UTC_profile_pic.jpg \n",
      "Stored ID 45787238527 for profile okisfn_.\n",
      "okisfn_\\2021-02-22_20-49-52_UTC_profile_pic.jpg \n",
      "Stored ID 8279445830 for profile rubenlove_.\n",
      "rubenlove_\\2021-10-03_06-17-37_UTC_profile_pic.jpg \n",
      "Stored ID 1939238719 for profile guaynaa.\n",
      "guaynaa\\2021-09-17_00-07-50_UTC_profile_pic.jpg \n",
      "Stored ID 387630598 for profile cheslinkolbe.\n",
      "cheslinkolbe\\2020-03-25_21-29-21_UTC_profile_pic.jpg \n",
      "Stored ID 7228902343 for profile rompiendo_espana.\n",
      "rompiendo_espana\\2018-07-10_10-06-17_UTC_profile_pic.jpg \n",
      "Stored ID 31147767 for profile darioemehache.\n",
      "darioemehache\\2020-08-02_19-36-34_UTC_profile_pic.jpg \n"
     ]
    }
   ],
   "source": [
    "for user in Get_second_pic_list:\n",
    "    # Donload a folder with the perfoil pic\n",
    "    \n",
    "    ig = instaloader.Instaloader()\n",
    "    ig.download_profile(user , profile_pic_only=True)\n",
    "    \n",
    "    #Get the  perfoil pic\n",
    "    images = glob.glob(\"C:\\\\Users...\\\\\"+ user +\"//*.JPG\")   # ----> Fill the path\n",
    "    \n",
    "    #Get the first imatge:\n",
    "    pic = images[0]\n",
    "    #Split the direction of the folder\n",
    "    pic_list = pic.split(\"\\\\\")\n",
    "    #Get the folder\n",
    "    folder_list = pic_list[0:9]\n",
    "    folder = \"//\".join(folder_list)\n",
    "    \n",
    "    try:\n",
    "        # rename the pic with the username\n",
    "        os.rename(pic , folder + \"//\" +  user + \".jpg\" )\n",
    "    \n",
    "        user_pic =  user + \".jpg\"\n",
    "    \n",
    "        folder_with_new_pic = folder + \"//\" + user_pic\n",
    "        \n",
    "        # Move the photo to the next folder\n",
    "        destination = \"C:\\\\Users...Second_pics\\\\\" +  user_pic  # ----> Fill the path\n",
    "        shutil.copyfile(folder_with_new_pic , destination)\n",
    "        \n",
    "    except:\n",
    "        \n",
    "        print(\"Ya existe\")\n",
    "\n",
    "    \n",
    "    \n",
    "    \n",
    "    "
   ]
  },
  {
   "cell_type": "markdown",
   "id": "3e82f520",
   "metadata": {},
   "source": [
    "## Encode second image"
   ]
  },
  {
   "cell_type": "code",
   "execution_count": null,
   "id": "27114584",
   "metadata": {},
   "outputs": [],
   "source": [
    "# encodings imatges:\n",
    "\n",
    "# declar the list to fit the users depending if there is a face detected or not:\n",
    "face_detected = []\n",
    "Not_face_dtected = []\n",
    "\n",
    "for follower in Get_second_pic_list: \n",
    "\n",
    "    try:\n",
    "        print(\"Encoding\", follower , \"pic\")\n",
    "        \n",
    "        # Get the name of the .png imatge\n",
    "        imatge_name = follower + \".jpg\"\n",
    "        \n",
    "        print(imatge_name)\n",
    "        \n",
    "        #Declare img variables:\n",
    "        img_follower = \"img_\" + follower\n",
    "        rgb_follower = \"rgb_\" + follower\n",
    "        enc_img_follower = \"enc_img_\" + follower\n",
    "        \n",
    "        \n",
    "        # Encode rhe faces\n",
    "        img_follower = cv2.imread(imatge_name)\n",
    "        rgb_follower = cv2.cvtColor(img_follower, cv2.COLOR_BGR2RGB)\n",
    "        enc_img_follower = face_recognition.face_encodings(rgb_follower)[0]    \n",
    "        \n",
    "        \n",
    "        face_detected.append(follower)\n",
    "        \n",
    "        destination = \"C:\\\\Users\\\\Enric Roda\\\\anaconda3\\\\envs\\\\kik_project\\\\Facial_recognition\\\\Faces_\\\\\" + imatge_name\n",
    "        shutil.copyfile(imatge_name, destination)\n",
    "        #os.replace(imatge_name, destination )\n",
    "        print(imatge_name + \" Was moved\")\n",
    "        \n",
    "        print(\"Success!\")\n",
    "        print(\"\")\n",
    "    except:\n",
    "        \n",
    "        print( follower , \"Pic cann`t not be encoded\")\n",
    "        print(\"\")\n",
    "        \n",
    "        Not_face_dtected.append(follower)\n",
    "        \n",
    "        pass"
   ]
  },
  {
   "cell_type": "markdown",
   "id": "f60c401a",
   "metadata": {},
   "source": [
    "# Facial recognition:"
   ]
  },
  {
   "cell_type": "markdown",
   "id": "082e6c70",
   "metadata": {},
   "source": [
    "## Encode faces"
   ]
  },
  {
   "cell_type": "code",
   "execution_count": 13,
   "id": "ba0af68a",
   "metadata": {},
   "outputs": [
    {
     "name": "stdout",
     "output_type": "stream",
     "text": [
      "3 encoding images found.\n",
      "Encoding images loaded\n"
     ]
    }
   ],
   "source": [
    "sfr = SimpleFacerec()\n",
    "sfr.load_encoding_images(\"C:\")  # path with all the faces detected."
   ]
  },
  {
   "cell_type": "markdown",
   "id": "99bd03f0",
   "metadata": {},
   "source": [
    "## Load Camera"
   ]
  },
  {
   "cell_type": "code",
   "execution_count": 14,
   "id": "f42797c4",
   "metadata": {},
   "outputs": [],
   "source": [
    "cap = cv2.VideoCapture(0)"
   ]
  },
  {
   "cell_type": "code",
   "execution_count": 15,
   "id": "9f67d77d",
   "metadata": {},
   "outputs": [],
   "source": [
    "# facial recognition in life\n",
    "while True:\n",
    "    \n",
    "    \n",
    "    # Detect faces:\n",
    "    ret, frame = cap.read()\n",
    "    face_locations, face_names = sfr.detect_known_faces(frame)\n",
    "    \n",
    "    for face_loc, name in zip(face_locations, face_names):\n",
    "        y1, x1, y2, x2 = face_loc[0], face_loc[1], face_loc[2], face_loc[3]\n",
    "        \n",
    "        cv2.putText(frame, name,(x1, y1 - 10), cv2.FONT_HERSHEY_DUPLEX, 1, (0, 0, 200), 2)\n",
    "        cv2.rectangle(frame, (x1, y1), (x2, y2), (0, 0, 200), 4)\n",
    "        \n",
    "        \n",
    "    \n",
    "   \n",
    "    \n",
    "    cv2.imshow(\"Frame\", frame)\n",
    "    key = cv2.waitKey(1)\n",
    "    \n",
    "    if key == 27:\n",
    "        break\n",
    "\n",
    "cap.release()\n",
    "cv2.destroyAllWindows()"
   ]
  },
  {
   "cell_type": "code",
   "execution_count": null,
   "id": "5b36060e",
   "metadata": {},
   "outputs": [],
   "source": []
  },
  {
   "cell_type": "code",
   "execution_count": null,
   "id": "6f44fc65",
   "metadata": {},
   "outputs": [],
   "source": []
  }
 ],
 "metadata": {
  "kernelspec": {
   "display_name": "Python 3 (ipykernel)",
   "language": "python",
   "name": "python3"
  },
  "language_info": {
   "codemirror_mode": {
    "name": "ipython",
    "version": 3
   },
   "file_extension": ".py",
   "mimetype": "text/x-python",
   "name": "python",
   "nbconvert_exporter": "python",
   "pygments_lexer": "ipython3",
   "version": "3.9.6"
  },
  "toc": {
   "base_numbering": 1,
   "nav_menu": {},
   "number_sections": true,
   "sideBar": true,
   "skip_h1_title": false,
   "title_cell": "Table of Contents",
   "title_sidebar": "Contents",
   "toc_cell": false,
   "toc_position": {},
   "toc_section_display": true,
   "toc_window_display": true
  },
  "varInspector": {
   "cols": {
    "lenName": 16,
    "lenType": 16,
    "lenVar": 40
   },
   "kernels_config": {
    "python": {
     "delete_cmd_postfix": "",
     "delete_cmd_prefix": "del ",
     "library": "var_list.py",
     "varRefreshCmd": "print(var_dic_list())"
    },
    "r": {
     "delete_cmd_postfix": ") ",
     "delete_cmd_prefix": "rm(",
     "library": "var_list.r",
     "varRefreshCmd": "cat(var_dic_list()) "
    }
   },
   "types_to_exclude": [
    "module",
    "function",
    "builtin_function_or_method",
    "instance",
    "_Feature"
   ],
   "window_display": false
  }
 },
 "nbformat": 4,
 "nbformat_minor": 5
}
